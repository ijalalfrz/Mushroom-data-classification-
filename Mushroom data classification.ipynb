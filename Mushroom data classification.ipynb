{
 "cells": [
  {
   "cell_type": "markdown",
   "metadata": {},
   "source": [
    "#Mushroom data classification\n",
    "\n",
    "Menggunakan algoritma Naive Bayes dan KNN\n",
    "\n",
    "Step\n",
    "1. Analisa Data\n",
    "2. Data Preprocessing\n",
    "3. Classification"
   ]
  },
  {
   "cell_type": "markdown",
   "metadata": {},
   "source": [
    "#Analisa Data"
   ]
  },
  {
   "cell_type": "code",
   "execution_count": 1,
   "metadata": {},
   "outputs": [
    {
     "data": {
      "text/plain": [
       "False"
      ]
     },
     "execution_count": 1,
     "metadata": {},
     "output_type": "execute_result"
    }
   ],
   "source": [
    "import pandas as pd\n",
    "import numpy as np\n",
    "\n",
    "\n",
    "df = pd.read_csv('mushrooms.csv')\n",
    "\n",
    "\n",
    "#CEK APAKAH ADA VALUE YANG NULL\n",
    "df.isnull().values.any()"
   ]
  },
  {
   "cell_type": "code",
   "execution_count": 2,
   "metadata": {},
   "outputs": [
    {
     "data": {
      "text/html": [
       "<div>\n",
       "<style scoped>\n",
       "    .dataframe tbody tr th:only-of-type {\n",
       "        vertical-align: middle;\n",
       "    }\n",
       "\n",
       "    .dataframe tbody tr th {\n",
       "        vertical-align: top;\n",
       "    }\n",
       "\n",
       "    .dataframe thead th {\n",
       "        text-align: right;\n",
       "    }\n",
       "</style>\n",
       "<table border=\"1\" class=\"dataframe\">\n",
       "  <thead>\n",
       "    <tr style=\"text-align: right;\">\n",
       "      <th></th>\n",
       "      <th>class</th>\n",
       "      <th>cap-shape</th>\n",
       "      <th>cap-surface</th>\n",
       "      <th>cap-color</th>\n",
       "      <th>bruises</th>\n",
       "      <th>odor</th>\n",
       "      <th>gill-attachment</th>\n",
       "      <th>gill-spacing</th>\n",
       "      <th>gill-size</th>\n",
       "      <th>gill-color</th>\n",
       "      <th>...</th>\n",
       "      <th>stalk-surface-below-ring</th>\n",
       "      <th>stalk-color-above-ring</th>\n",
       "      <th>stalk-color-below-ring</th>\n",
       "      <th>veil-type</th>\n",
       "      <th>veil-color</th>\n",
       "      <th>ring-number</th>\n",
       "      <th>ring-type</th>\n",
       "      <th>spore-print-color</th>\n",
       "      <th>population</th>\n",
       "      <th>habitat</th>\n",
       "    </tr>\n",
       "  </thead>\n",
       "  <tbody>\n",
       "    <tr>\n",
       "      <th>count</th>\n",
       "      <td>8124</td>\n",
       "      <td>8124</td>\n",
       "      <td>8124</td>\n",
       "      <td>8124</td>\n",
       "      <td>8124</td>\n",
       "      <td>8124</td>\n",
       "      <td>8124</td>\n",
       "      <td>8124</td>\n",
       "      <td>8124</td>\n",
       "      <td>8124</td>\n",
       "      <td>...</td>\n",
       "      <td>8124</td>\n",
       "      <td>8124</td>\n",
       "      <td>8124</td>\n",
       "      <td>8124</td>\n",
       "      <td>8124</td>\n",
       "      <td>8124</td>\n",
       "      <td>8124</td>\n",
       "      <td>8124</td>\n",
       "      <td>8124</td>\n",
       "      <td>8124</td>\n",
       "    </tr>\n",
       "    <tr>\n",
       "      <th>unique</th>\n",
       "      <td>2</td>\n",
       "      <td>6</td>\n",
       "      <td>4</td>\n",
       "      <td>10</td>\n",
       "      <td>2</td>\n",
       "      <td>9</td>\n",
       "      <td>2</td>\n",
       "      <td>2</td>\n",
       "      <td>2</td>\n",
       "      <td>12</td>\n",
       "      <td>...</td>\n",
       "      <td>4</td>\n",
       "      <td>9</td>\n",
       "      <td>9</td>\n",
       "      <td>1</td>\n",
       "      <td>4</td>\n",
       "      <td>3</td>\n",
       "      <td>5</td>\n",
       "      <td>9</td>\n",
       "      <td>6</td>\n",
       "      <td>7</td>\n",
       "    </tr>\n",
       "    <tr>\n",
       "      <th>top</th>\n",
       "      <td>e</td>\n",
       "      <td>x</td>\n",
       "      <td>y</td>\n",
       "      <td>n</td>\n",
       "      <td>f</td>\n",
       "      <td>n</td>\n",
       "      <td>f</td>\n",
       "      <td>c</td>\n",
       "      <td>b</td>\n",
       "      <td>b</td>\n",
       "      <td>...</td>\n",
       "      <td>s</td>\n",
       "      <td>w</td>\n",
       "      <td>w</td>\n",
       "      <td>p</td>\n",
       "      <td>w</td>\n",
       "      <td>o</td>\n",
       "      <td>p</td>\n",
       "      <td>w</td>\n",
       "      <td>v</td>\n",
       "      <td>d</td>\n",
       "    </tr>\n",
       "    <tr>\n",
       "      <th>freq</th>\n",
       "      <td>4208</td>\n",
       "      <td>3656</td>\n",
       "      <td>3244</td>\n",
       "      <td>2284</td>\n",
       "      <td>4748</td>\n",
       "      <td>3528</td>\n",
       "      <td>7914</td>\n",
       "      <td>6812</td>\n",
       "      <td>5612</td>\n",
       "      <td>1728</td>\n",
       "      <td>...</td>\n",
       "      <td>4936</td>\n",
       "      <td>4464</td>\n",
       "      <td>4384</td>\n",
       "      <td>8124</td>\n",
       "      <td>7924</td>\n",
       "      <td>7488</td>\n",
       "      <td>3968</td>\n",
       "      <td>2388</td>\n",
       "      <td>4040</td>\n",
       "      <td>3148</td>\n",
       "    </tr>\n",
       "  </tbody>\n",
       "</table>\n",
       "<p>4 rows × 23 columns</p>\n",
       "</div>"
      ],
      "text/plain": [
       "       class cap-shape cap-surface cap-color bruises  odor gill-attachment  \\\n",
       "count   8124      8124        8124      8124    8124  8124            8124   \n",
       "unique     2         6           4        10       2     9               2   \n",
       "top        e         x           y         n       f     n               f   \n",
       "freq    4208      3656        3244      2284    4748  3528            7914   \n",
       "\n",
       "       gill-spacing gill-size gill-color  ... stalk-surface-below-ring  \\\n",
       "count          8124      8124       8124  ...                     8124   \n",
       "unique            2         2         12  ...                        4   \n",
       "top               c         b          b  ...                        s   \n",
       "freq           6812      5612       1728  ...                     4936   \n",
       "\n",
       "       stalk-color-above-ring stalk-color-below-ring veil-type veil-color  \\\n",
       "count                    8124                   8124      8124       8124   \n",
       "unique                      9                      9         1          4   \n",
       "top                         w                      w         p          w   \n",
       "freq                     4464                   4384      8124       7924   \n",
       "\n",
       "       ring-number ring-type spore-print-color population habitat  \n",
       "count         8124      8124              8124       8124    8124  \n",
       "unique           3         5                 9          6       7  \n",
       "top              o         p                 w          v       d  \n",
       "freq          7488      3968              2388       4040    3148  \n",
       "\n",
       "[4 rows x 23 columns]"
      ]
     },
     "execution_count": 2,
     "metadata": {},
     "output_type": "execute_result"
    }
   ],
   "source": [
    "df.describe()"
   ]
  },
  {
   "cell_type": "markdown",
   "metadata": {},
   "source": [
    "Hapus kolom veil-type karena semua data bernilai sama"
   ]
  },
  {
   "cell_type": "code",
   "execution_count": 4,
   "metadata": {},
   "outputs": [],
   "source": [
    "\"\"\"\n",
    "Hapus kolom veil type karena nilai sama\n",
    "dan tidak berpengaruh terhadap model\n",
    "\"\"\"\n",
    "\n",
    "df = df.drop([\"veil-type\"], axis = 1)\n",
    "\n",
    "X = df.iloc[:,1:22]\n",
    "Y = df['class']"
   ]
  },
  {
   "cell_type": "markdown",
   "metadata": {},
   "source": [
    "Periksa dependent kolom (class) apakah seimbang atau tidak, apabila tidak seimbang dataset tidak representatif"
   ]
  },
  {
   "cell_type": "code",
   "execution_count": 6,
   "metadata": {
    "scrolled": true
   },
   "outputs": [
    {
     "data": {
      "text/plain": [
       "<function matplotlib.pyplot.show(*args, **kw)>"
      ]
     },
     "execution_count": 6,
     "metadata": {},
     "output_type": "execute_result"
    },
    {
     "data": {
      "image/png": "[encoded data removed]",
      "text/plain": [
       "<Figure size 432x288 with 1 Axes>"
      ]
     },
     "metadata": {
      "needs_background": "light"
     },
     "output_type": "display_data"
    }
   ],
   "source": [
    "import matplotlib.pyplot as plt\n",
    "\n",
    "plt.figure()\n",
    "pd.Series(df['class']).value_counts().sort_index().plot(kind = 'bar')\n",
    "plt.ylabel(\"Jumlah\")\n",
    "plt.xlabel(\"class\")\n",
    "plt.title('Perbandingan jamur poisonous/edible')\n",
    "plt.show"
   ]
  },
  {
   "cell_type": "markdown",
   "metadata": {},
   "source": [
    "Data cukup seimbang maka kita dapat melakukan klasifikasi\n",
    "\n",
    "#Data Preprocessing\n",
    "\n",
    "1. tiap kolom yang memiliki lebih dari 2 class akan dibuat dummy kolom"
   ]
  },
  {
   "cell_type": "code",
   "execution_count": 7,
   "metadata": {},
   "outputs": [],
   "source": [
    "X_dum = pd.DataFrame()\n",
    "\"Buat dummy variabel tiap class tiap kolom, cap-shape,cap-surface,cap-color\"\n",
    "\n",
    "for col in X.iloc[:,:3].columns:\n",
    "    dum = pd.get_dummies(X[col])\n",
    "    for dcol in dum.columns:\n",
    "        name = col +\"_\"+ dcol\n",
    "        X_dum[name] = dum[dcol]\n",
    "        \n",
    "\"odor, gill-attachment, gill-spacing\"\n",
    "for col in X.iloc[:,4:7].columns:\n",
    "    dum = pd.get_dummies(X[col])\n",
    "    for dcol in dum.columns:\n",
    "        name = col +\"_\"+ dcol\n",
    "        X_dum[name] = dum[dcol]\n",
    "        \n",
    "\"gill-color\"\n",
    "dum = pd.get_dummies(X['gill-color'])\n",
    "for dcol in dum.columns:\n",
    "    name = \"gill-color_\"+ dcol\n",
    "    X_dum[name] = dum[dcol]\n",
    "    \n",
    "\"sisanya yg memiliki >2 class\"\n",
    "for col in X.iloc[:,10:].columns:\n",
    "    dum = pd.get_dummies(X[col])\n",
    "    for dcol in dum.columns:\n",
    "        name = col +\"_\"+ dcol\n",
    "        X_dum[name] = dum[dcol]\n",
    "        \n",
    "\"bruises\"\n",
    "X_dum['bruises'] = np.where(X['bruises']=='t', 1, 0)\n",
    "\n",
    "\"gill-size\"\n",
    "X_dum['gill-size'] = np.where(X['gill-size']=='b', 1, 0)\n",
    "\n",
    "\"stalk-shape\"\n",
    "X_dum['stalk-shape'] = np.where(X['stalk-shape']=='e', 1, 0)\n",
    "\n",
    "\"ganti value y jika edible 1, poison 0\"\n",
    "Y = np.where(Y=='e', 1,0)\n"
   ]
  },
  {
   "cell_type": "code",
   "execution_count": 12,
   "metadata": {},
   "outputs": [
    {
     "name": "stdout",
     "output_type": "stream",
     "text": [
      "Index(['cap-shape_b', 'cap-shape_c', 'cap-shape_f', 'cap-shape_k',\n",
      "       'cap-shape_s', 'cap-shape_x', 'cap-surface_f', 'cap-surface_g',\n",
      "       'cap-surface_s', 'cap-surface_y',\n",
      "       ...\n",
      "       'habitat_d', 'habitat_g', 'habitat_l', 'habitat_m', 'habitat_p',\n",
      "       'habitat_u', 'habitat_w', 'bruises', 'gill-size', 'stalk-shape'],\n",
      "      dtype='object', length=113)\n"
     ]
    }
   ],
   "source": [
    "#kolom setelah ditambah dummy\n",
    "print(X_dum.columns)"
   ]
  },
  {
   "cell_type": "markdown",
   "metadata": {},
   "source": [
    "2.Pisahkan data training dan testing 70:30"
   ]
  },
  {
   "cell_type": "code",
   "execution_count": 8,
   "metadata": {},
   "outputs": [],
   "source": [
    "index_train = round(0.7*len(X))\n",
    "X_train = X_dum.iloc[:index_train,:]\n",
    "X_test = X_dum.iloc[index_train:,:]\n",
    "Y_train = Y[:index_train]\n",
    "Y_test = Y[index_train:]"
   ]
  },
  {
   "cell_type": "markdown",
   "metadata": {},
   "source": [
    "#Classification\n",
    "\n",
    "\n",
    "##Naive Bayes\n",
    "menggunakan algoritma naive bayes mendapatkan tiap kolom probabilitas untuk class edible dan poison\n",
    "\n",
    "P(X|e) = ?\n",
    "P(X|p) = ?\n",
    "\n",
    "![NaiveBayes](https://cdn-images-1.medium.com/max/800/1*iuLad-Li3t-QjPy-lao94Q.png)"
   ]
  },
  {
   "cell_type": "code",
   "execution_count": 9,
   "metadata": {},
   "outputs": [
    {
     "name": "stderr",
     "output_type": "stream",
     "text": [
      "C:\\Users\\MAMEN\\NO1\\NBClassification.py:31: SettingWithCopyWarning: \n",
      "A value is trying to be set on a copy of a slice from a DataFrame.\n",
      "Try using .loc[row_indexer,col_indexer] = value instead\n",
      "\n",
      "See the caveats in the documentation: http://pandas.pydata.org/pandas-docs/stable/indexing.html#indexing-view-versus-copy\n",
      "  self.train['class'] = self.Y_train\n",
      "C:\\Users\\MAMEN\\NO1\\NBClassification.py:34: SettingWithCopyWarning: \n",
      "A value is trying to be set on a copy of a slice from a DataFrame.\n",
      "Try using .loc[row_indexer,col_indexer] = value instead\n",
      "\n",
      "See the caveats in the documentation: http://pandas.pydata.org/pandas-docs/stable/indexing.html#indexing-view-versus-copy\n",
      "  self.test['class'] = self.Y_test\n"
     ]
    }
   ],
   "source": [
    "import NBClassification as NB\n",
    "nb = NB.NBClassification(X_train, Y_train, X_test, Y_test)\n",
    "res2 = nb.predict()"
   ]
  },
  {
   "cell_type": "markdown",
   "metadata": {},
   "source": [
    "##Hasil\n",
    "\n",
    "Kita lihat confussion matrix dan akurasi"
   ]
  },
  {
   "cell_type": "code",
   "execution_count": 10,
   "metadata": {},
   "outputs": [],
   "source": [
    "def report(y_test,y_pred):\n",
    "    total = len(y_test)\n",
    "    tp=len([i for i in range(0,total) if y_test[i]==0 and y_pred[i]==0])\n",
    "    tn=len([i for i in range(0,total) if y_test[i]==0 and y_pred[i]==1])\n",
    "    fp=len([i for i in range(0,total) if y_test[i]==1 and y_pred[i]==0])\n",
    "    fn=len([i for i in range(0,total) if y_test[i]==1 and y_pred[i]==1])\n",
    "    confusion_matrix=np.array([[tp,tn],[fp,fn]])\n",
    "    akurasi=(tp+tn)/total\n",
    "    presisi=tp/(tp+fp)\n",
    "    recall=tp/(tp+fn)\n",
    "    fmeasure=(2*recall*presisi)/(recall+presisi)\n",
    "    print(\"Confussion Matrix:\")\n",
    "    print(confusion_matrix)\n",
    "    print(\"Akurasi: \", akurasi)\n",
    "    print(\"Precision: \",presisi)\n",
    "    print(\"Recall: \", recall )\n",
    "    print(\"F-Measure: \", fmeasure)"
   ]
  },
  {
   "cell_type": "code",
   "execution_count": 11,
   "metadata": {},
   "outputs": [
    {
     "name": "stdout",
     "output_type": "stream",
     "text": [
      "Confussion Matrix:\n",
      "[[1828    0]\n",
      " [ 424  185]]\n",
      "Akurasi:  0.7501025851456709\n",
      "Precision:  0.8117229129662522\n",
      "Recall:  0.9080973671137605\n",
      "F-Measure:  0.8572098475967175\n"
     ]
    }
   ],
   "source": [
    "report(res2['actual'],res2['predicted'])"
   ]
  },
  {
   "cell_type": "markdown",
   "metadata": {},
   "source": [
    "Akurasi untuk naive bayes adalah 75% memprediksi tepat sesuai data testing"
   ]
  },
  {
   "cell_type": "markdown",
   "metadata": {},
   "source": [
    "##K-Nearest Neighbour\n",
    "\n",
    "Algoritma dengan mengecek k - data terdekat untuk mendapatkan class.\n",
    "\n",
    "Menggunakan k=7"
   ]
  }
 ],
 "metadata": {
  "kernelspec": {
   "display_name": "Python 3",
   "language": "python",
   "name": "python3"
  },
  "language_info": {
   "codemirror_mode": {
    "name": "ipython",
    "version": 3
   },
   "file_extension": ".py",
   "mimetype": "text/x-python",
   "name": "python",
   "nbconvert_exporter": "python",
   "pygments_lexer": "ipython3",
   "version": "3.7.3"
  }
 },
 "nbformat": 4,
 "nbformat_minor": 2
}
