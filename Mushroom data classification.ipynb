{
 "cells": [
  {
   "cell_type": "markdown",
   "metadata": {},
   "source": [
    "#Mushroom data classification\n",
    "\n",
    "Menggunakan algoritma Naive Bayes dan KNN\n",
    "\n",
    "Step\n",
    "1. Analisa Data\n",
    "2. Data Preprocessing\n",
    "3. Classification"
   ]
  },
  {
   "cell_type": "markdown",
   "metadata": {},
   "source": [
    "#Analisa Data"
   ]
  },
  {
   "cell_type": "code",
   "execution_count": 3,
   "metadata": {},
   "outputs": [
    {
     "data": {
      "text/plain": [
       "False"
      ]
     },
     "execution_count": 3,
     "metadata": {},
     "output_type": "execute_result"
    }
   ],
   "source": [
    "import pandas as pd\n",
    "import numpy as np\n",
    "\n",
    "\n",
    "df = pd.read_csv('mushrooms.csv')\n",
    "\n",
    "\n",
    "#CEK APAKAH ADA VALUE YANG NULL\n",
    "df.isnull().values.any()"
   ]
  },
  {
   "cell_type": "code",
   "execution_count": 29,
   "metadata": {},
   "outputs": [],
   "source": [
    "def report(y_test,y_pred):\n",
    "    total = len(y_pred)\n",
    "\n",
    "    tp=len([i for i in range(0,total) if y_test[i]==1 and y_pred[i]==1])\n",
    "    tn=len([i for i in range(0,total) if y_test[i]==0 and y_pred[i]==0])\n",
    "    fp=len([i for i in range(0,total) if y_test[i]==1 and y_pred[i]==0])\n",
    "    fn=len([i for i in range(0,total) if y_test[i]==0 and y_pred[i]==1])\n",
    "    confusion_matrix=np.array([[tp,fp],[fn,tn]])\n",
    "    akurasi=(tp+tn)/total\n",
    "    presisi=tp/(tp+fp)\n",
    "    recall=tp/(tp+fn)\n",
    "    fmeasure=(2*recall*presisi)/(recall+presisi)\n",
    "    print(\"Confussion Matrix:\")\n",
    "    print(confusion_matrix)\n",
    "    print(\"Akurasi: \", akurasi)\n",
    "    print(\"Precision: \",presisi)\n",
    "    print(\"Recall: \", recall )\n",
    "    print(\"F-Measure: \", fmeasure)"
   ]
  },
  {
   "cell_type": "code",
   "execution_count": 2,
   "metadata": {},
   "outputs": [
    {
     "data": {
      "text/html": [
       "<div>\n",
       "<style scoped>\n",
       "    .dataframe tbody tr th:only-of-type {\n",
       "        vertical-align: middle;\n",
       "    }\n",
       "\n",
       "    .dataframe tbody tr th {\n",
       "        vertical-align: top;\n",
       "    }\n",
       "\n",
       "    .dataframe thead th {\n",
       "        text-align: right;\n",
       "    }\n",
       "</style>\n",
       "<table border=\"1\" class=\"dataframe\">\n",
       "  <thead>\n",
       "    <tr style=\"text-align: right;\">\n",
       "      <th></th>\n",
       "      <th>class</th>\n",
       "      <th>cap-shape</th>\n",
       "      <th>cap-surface</th>\n",
       "      <th>cap-color</th>\n",
       "      <th>bruises</th>\n",
       "      <th>odor</th>\n",
       "      <th>gill-attachment</th>\n",
       "      <th>gill-spacing</th>\n",
       "      <th>gill-size</th>\n",
       "      <th>gill-color</th>\n",
       "      <th>...</th>\n",
       "      <th>stalk-surface-below-ring</th>\n",
       "      <th>stalk-color-above-ring</th>\n",
       "      <th>stalk-color-below-ring</th>\n",
       "      <th>veil-type</th>\n",
       "      <th>veil-color</th>\n",
       "      <th>ring-number</th>\n",
       "      <th>ring-type</th>\n",
       "      <th>spore-print-color</th>\n",
       "      <th>population</th>\n",
       "      <th>habitat</th>\n",
       "    </tr>\n",
       "  </thead>\n",
       "  <tbody>\n",
       "    <tr>\n",
       "      <th>count</th>\n",
       "      <td>8124</td>\n",
       "      <td>8124</td>\n",
       "      <td>8124</td>\n",
       "      <td>8124</td>\n",
       "      <td>8124</td>\n",
       "      <td>8124</td>\n",
       "      <td>8124</td>\n",
       "      <td>8124</td>\n",
       "      <td>8124</td>\n",
       "      <td>8124</td>\n",
       "      <td>...</td>\n",
       "      <td>8124</td>\n",
       "      <td>8124</td>\n",
       "      <td>8124</td>\n",
       "      <td>8124</td>\n",
       "      <td>8124</td>\n",
       "      <td>8124</td>\n",
       "      <td>8124</td>\n",
       "      <td>8124</td>\n",
       "      <td>8124</td>\n",
       "      <td>8124</td>\n",
       "    </tr>\n",
       "    <tr>\n",
       "      <th>unique</th>\n",
       "      <td>2</td>\n",
       "      <td>6</td>\n",
       "      <td>4</td>\n",
       "      <td>10</td>\n",
       "      <td>2</td>\n",
       "      <td>9</td>\n",
       "      <td>2</td>\n",
       "      <td>2</td>\n",
       "      <td>2</td>\n",
       "      <td>12</td>\n",
       "      <td>...</td>\n",
       "      <td>4</td>\n",
       "      <td>9</td>\n",
       "      <td>9</td>\n",
       "      <td>1</td>\n",
       "      <td>4</td>\n",
       "      <td>3</td>\n",
       "      <td>5</td>\n",
       "      <td>9</td>\n",
       "      <td>6</td>\n",
       "      <td>7</td>\n",
       "    </tr>\n",
       "    <tr>\n",
       "      <th>top</th>\n",
       "      <td>e</td>\n",
       "      <td>x</td>\n",
       "      <td>y</td>\n",
       "      <td>n</td>\n",
       "      <td>f</td>\n",
       "      <td>n</td>\n",
       "      <td>f</td>\n",
       "      <td>c</td>\n",
       "      <td>b</td>\n",
       "      <td>b</td>\n",
       "      <td>...</td>\n",
       "      <td>s</td>\n",
       "      <td>w</td>\n",
       "      <td>w</td>\n",
       "      <td>p</td>\n",
       "      <td>w</td>\n",
       "      <td>o</td>\n",
       "      <td>p</td>\n",
       "      <td>w</td>\n",
       "      <td>v</td>\n",
       "      <td>d</td>\n",
       "    </tr>\n",
       "    <tr>\n",
       "      <th>freq</th>\n",
       "      <td>4208</td>\n",
       "      <td>3656</td>\n",
       "      <td>3244</td>\n",
       "      <td>2284</td>\n",
       "      <td>4748</td>\n",
       "      <td>3528</td>\n",
       "      <td>7914</td>\n",
       "      <td>6812</td>\n",
       "      <td>5612</td>\n",
       "      <td>1728</td>\n",
       "      <td>...</td>\n",
       "      <td>4936</td>\n",
       "      <td>4464</td>\n",
       "      <td>4384</td>\n",
       "      <td>8124</td>\n",
       "      <td>7924</td>\n",
       "      <td>7488</td>\n",
       "      <td>3968</td>\n",
       "      <td>2388</td>\n",
       "      <td>4040</td>\n",
       "      <td>3148</td>\n",
       "    </tr>\n",
       "  </tbody>\n",
       "</table>\n",
       "<p>4 rows × 23 columns</p>\n",
       "</div>"
      ],
      "text/plain": [
       "       class cap-shape cap-surface cap-color bruises  odor gill-attachment  \\\n",
       "count   8124      8124        8124      8124    8124  8124            8124   \n",
       "unique     2         6           4        10       2     9               2   \n",
       "top        e         x           y         n       f     n               f   \n",
       "freq    4208      3656        3244      2284    4748  3528            7914   \n",
       "\n",
       "       gill-spacing gill-size gill-color  ... stalk-surface-below-ring  \\\n",
       "count          8124      8124       8124  ...                     8124   \n",
       "unique            2         2         12  ...                        4   \n",
       "top               c         b          b  ...                        s   \n",
       "freq           6812      5612       1728  ...                     4936   \n",
       "\n",
       "       stalk-color-above-ring stalk-color-below-ring veil-type veil-color  \\\n",
       "count                    8124                   8124      8124       8124   \n",
       "unique                      9                      9         1          4   \n",
       "top                         w                      w         p          w   \n",
       "freq                     4464                   4384      8124       7924   \n",
       "\n",
       "       ring-number ring-type spore-print-color population habitat  \n",
       "count         8124      8124              8124       8124    8124  \n",
       "unique           3         5                 9          6       7  \n",
       "top              o         p                 w          v       d  \n",
       "freq          7488      3968              2388       4040    3148  \n",
       "\n",
       "[4 rows x 23 columns]"
      ]
     },
     "execution_count": 2,
     "metadata": {},
     "output_type": "execute_result"
    }
   ],
   "source": [
    "df.describe()"
   ]
  },
  {
   "cell_type": "markdown",
   "metadata": {},
   "source": [
    "Hapus kolom veil-type karena semua data bernilai sama"
   ]
  },
  {
   "cell_type": "code",
   "execution_count": 4,
   "metadata": {},
   "outputs": [],
   "source": [
    "\"\"\"\n",
    "Hapus kolom veil type karena nilai sama\n",
    "dan tidak berpengaruh terhadap model\n",
    "\"\"\"\n",
    "\n",
    "df = df.drop([\"veil-type\"], axis = 1)\n",
    "\n",
    "X = df.iloc[:,1:22]\n",
    "Y = df['class']"
   ]
  },
  {
   "cell_type": "markdown",
   "metadata": {},
   "source": [
    "Periksa dependent kolom (class) apakah seimbang atau tidak, apabila tidak seimbang dataset tidak representatif"
   ]
  },
  {
   "cell_type": "code",
   "execution_count": 6,
   "metadata": {
    "scrolled": true
   },
   "outputs": [
    {
     "data": {
      "text/plain": [
       "<function matplotlib.pyplot.show(*args, **kw)>"
      ]
     },
     "execution_count": 6,
     "metadata": {},
     "output_type": "execute_result"
    },
    {
     "data": {
      "image/png": "[encoded data removed]",
      "text/plain": [
       "<Figure size 432x288 with 1 Axes>"
      ]
     },
     "metadata": {
      "needs_background": "light"
     },
     "output_type": "display_data"
    }
   ],
   "source": [
    "import matplotlib.pyplot as plt\n",
    "\n",
    "plt.figure()\n",
    "pd.Series(df['class']).value_counts().sort_index().plot(kind = 'bar')\n",
    "plt.ylabel(\"Jumlah\")\n",
    "plt.xlabel(\"class\")\n",
    "plt.title('Perbandingan jamur poisonous/edible')\n",
    "plt.show"
   ]
  },
  {
   "cell_type": "markdown",
   "metadata": {},
   "source": [
    "Data cukup seimbang maka kita dapat melakukan klasifikasi\n",
    "\n",
    "#Data Preprocessing\n",
    "Semua kolom dicoba untuk metode ini (All in)\n",
    "\n",
    "1. tiap kolom yang memiliki lebih dari 2 class akan dibuat dummy kolom"
   ]
  },
  {
   "cell_type": "code",
   "execution_count": 7,
   "metadata": {},
   "outputs": [],
   "source": [
    "X_dum = pd.DataFrame()\n",
    "\"Buat dummy variabel tiap class tiap kolom, cap-shape,cap-surface,cap-color\"\n",
    "\n",
    "for col in X.iloc[:,:3].columns:\n",
    "    dum = pd.get_dummies(X[col])\n",
    "    for dcol in dum.columns:\n",
    "        name = col +\"_\"+ dcol\n",
    "        X_dum[name] = dum[dcol]\n",
    "        \n",
    "\"odor, gill-attachment, gill-spacing\"\n",
    "for col in X.iloc[:,4:7].columns:\n",
    "    dum = pd.get_dummies(X[col])\n",
    "    for dcol in dum.columns:\n",
    "        name = col +\"_\"+ dcol\n",
    "        X_dum[name] = dum[dcol]\n",
    "        \n",
    "\"gill-color\"\n",
    "dum = pd.get_dummies(X['gill-color'])\n",
    "for dcol in dum.columns:\n",
    "    name = \"gill-color_\"+ dcol\n",
    "    X_dum[name] = dum[dcol]\n",
    "    \n",
    "\"sisanya yg memiliki >2 class\"\n",
    "for col in X.iloc[:,10:].columns:\n",
    "    dum = pd.get_dummies(X[col])\n",
    "    for dcol in dum.columns:\n",
    "        name = col +\"_\"+ dcol\n",
    "        X_dum[name] = dum[dcol]\n",
    "        \n",
    "\"bruises\"\n",
    "X_dum['bruises'] = np.where(X['bruises']=='t', 1, 0)\n",
    "\n",
    "\"gill-size\"\n",
    "X_dum['gill-size'] = np.where(X['gill-size']=='b', 1, 0)\n",
    "\n",
    "\"stalk-shape\"\n",
    "X_dum['stalk-shape'] = np.where(X['stalk-shape']=='e', 1, 0)\n",
    "\n",
    "\"ganti value y jika edible 1, poison 0\"\n",
    "Y = np.where(Y=='e', 1,0)\n"
   ]
  },
  {
   "cell_type": "code",
   "execution_count": 12,
   "metadata": {},
   "outputs": [
    {
     "name": "stdout",
     "output_type": "stream",
     "text": [
      "Index(['cap-shape_b', 'cap-shape_c', 'cap-shape_f', 'cap-shape_k',\n",
      "       'cap-shape_s', 'cap-shape_x', 'cap-surface_f', 'cap-surface_g',\n",
      "       'cap-surface_s', 'cap-surface_y',\n",
      "       ...\n",
      "       'habitat_d', 'habitat_g', 'habitat_l', 'habitat_m', 'habitat_p',\n",
      "       'habitat_u', 'habitat_w', 'bruises', 'gill-size', 'stalk-shape'],\n",
      "      dtype='object', length=113)\n"
     ]
    }
   ],
   "source": [
    "#kolom setelah ditambah dummy\n",
    "print(X_dum.columns)"
   ]
  },
  {
   "cell_type": "markdown",
   "metadata": {},
   "source": [
    "2.Pisahkan data training dan testing 70:30"
   ]
  },
  {
   "cell_type": "code",
   "execution_count": 8,
   "metadata": {},
   "outputs": [],
   "source": [
    "index_train = round(0.7*len(X))\n",
    "X_train = X_dum.iloc[:index_train,:]\n",
    "X_test = X_dum.iloc[index_train:,:]\n",
    "Y_train = Y[:index_train]\n",
    "Y_test = Y[index_train:]"
   ]
  },
  {
   "cell_type": "markdown",
   "metadata": {},
   "source": [
    "#Classification\n",
    "\n",
    "\n",
    "##Naive Bayes\n",
    "menggunakan algoritma naive bayes mendapatkan tiap kolom probabilitas untuk class edible dan poison\n",
    "\n",
    "P(X|e) = ?\n",
    "P(X|p) = ?\n",
    "\n",
    "![NaiveBayes](https://cdn-images-1.medium.com/max/800/1*iuLad-Li3t-QjPy-lao94Q.png)"
   ]
  },
  {
   "cell_type": "code",
   "execution_count": 9,
   "metadata": {},
   "outputs": [
    {
     "name": "stderr",
     "output_type": "stream",
     "text": [
      "C:\\Users\\MAMEN\\NO1\\NBClassification.py:31: SettingWithCopyWarning: \n",
      "A value is trying to be set on a copy of a slice from a DataFrame.\n",
      "Try using .loc[row_indexer,col_indexer] = value instead\n",
      "\n",
      "See the caveats in the documentation: http://pandas.pydata.org/pandas-docs/stable/indexing.html#indexing-view-versus-copy\n",
      "  self.train['class'] = self.Y_train\n",
      "C:\\Users\\MAMEN\\NO1\\NBClassification.py:34: SettingWithCopyWarning: \n",
      "A value is trying to be set on a copy of a slice from a DataFrame.\n",
      "Try using .loc[row_indexer,col_indexer] = value instead\n",
      "\n",
      "See the caveats in the documentation: http://pandas.pydata.org/pandas-docs/stable/indexing.html#indexing-view-versus-copy\n",
      "  self.test['class'] = self.Y_test\n"
     ]
    }
   ],
   "source": [
    "import NBClassification as NB\n",
    "nb = NB.NBClassification(X_train, Y_train, X_test, Y_test)\n",
    "res2 = nb.predict()"
   ]
  },
  {
   "cell_type": "markdown",
   "metadata": {},
   "source": [
    "##Hasil\n",
    "\n",
    "Kita lihat confussion matrix dan akurasi"
   ]
  },
  {
   "cell_type": "code",
   "execution_count": 30,
   "metadata": {},
   "outputs": [
    {
     "name": "stdout",
     "output_type": "stream",
     "text": [
      "Confussion Matrix:\n",
      "[[ 185  424]\n",
      " [   0 1828]]\n",
      "Akurasi:  0.826015592942142\n",
      "Precision:  0.30377668308702793\n",
      "Recall:  1.0\n",
      "F-Measure:  0.46599496221662473\n"
     ]
    }
   ],
   "source": [
    "report(res2['actual'],res2['predicted'])"
   ]
  },
  {
   "cell_type": "markdown",
   "metadata": {},
   "source": [
    "Akurasi untuk naive bayes adalah 82% memprediksi tepat sesuai data testing, tetapi model tidak presisi menebak jamur yang bisa dimakan, maka model ini kurang baik."
   ]
  },
  {
   "cell_type": "markdown",
   "metadata": {},
   "source": [
    "##K-Nearest Neighbour\n",
    "\n",
    "Algoritma dengan mengecek k - data terdekat untuk mendapatkan class.\n",
    "\n",
    "Menggunakan k=7"
   ]
  },
  {
   "cell_type": "code",
   "execution_count": 13,
   "metadata": {},
   "outputs": [
    {
     "name": "stderr",
     "output_type": "stream",
     "text": [
      "C:\\Users\\MAMEN\\NO1\\KNNClassification.py:30: SettingWithCopyWarning: \n",
      "A value is trying to be set on a copy of a slice from a DataFrame.\n",
      "Try using .loc[row_indexer,col_indexer] = value instead\n",
      "\n",
      "See the caveats in the documentation: http://pandas.pydata.org/pandas-docs/stable/indexing.html#indexing-view-versus-copy\n",
      "  self.X_train['class'] = self.Y_train\n"
     ]
    }
   ],
   "source": [
    "import KNNClassification as KNN\n",
    "knn = KNN.KNNClassification(7, X_train, Y_train, X_test, Y_test)\n",
    "res = knn.predict()"
   ]
  },
  {
   "cell_type": "markdown",
   "metadata": {},
   "source": [
    "##Hasil"
   ]
  },
  {
   "cell_type": "code",
   "execution_count": 24,
   "metadata": {},
   "outputs": [
    {
     "name": "stdout",
     "output_type": "stream",
     "text": [
      "Confussion Matrix:\n",
      "[[ 592    0]\n",
      " [  17 1828]]\n",
      "Akurasi:  0.9930242100943784\n",
      "Precision:  1.0\n",
      "Recall:  0.9720853858784894\n",
      "F-Measure:  0.9858451290591174\n"
     ]
    }
   ],
   "source": [
    "report(res['actual'],res['predicted'])"
   ]
  },
  {
   "cell_type": "markdown",
   "metadata": {},
   "source": [
    "Akurasi model hampir 100%, dan model presisi menebak jamur yang bisa dimakan 100%, model ini baik. namun kelemahan K-NN adalah lama saat memprediksi (lazy learner)."
   ]
  },
  {
   "cell_type": "markdown",
   "metadata": {},
   "source": [
    "#Menentukan feature yang penting\n",
    "\n",
    "\n",
    "##Test ChiSquare \n",
    "mententukan mana feature yang memiliki asosiasi dengan feature class\n",
    "\n",
    "Formula:\n",
    "1. mencari tabel kontingensi\n",
    "contoh:\n",
    "![TK](img/tk.png)\n",
    "2. X^2\n",
    "![X2](img/x.png)\n",
    "![ex](img/ex.png)\n",
    "3. Derajat kebebasan\n",
    "![df](img/df.png)\n",
    "4. Tabel distribusi Chi-Square\n",
    "![tbl](http://www.ttable.org/uploads/2/1/7/9/21795380/1478546411.png)"
   ]
  },
  {
   "cell_type": "code",
   "execution_count": 7,
   "metadata": {},
   "outputs": [
    {
     "name": "stdout",
     "output_type": "stream",
     "text": [
      "Kolom  cap-shape  berguna untuk prediksi p-value =  1.1964565685935438e-103\n",
      "Kolom  cap-surface  berguna untuk prediksi p-value =  5.518427038649143e-68\n",
      "Kolom  cap-color  berguna untuk prediksi p-value =  6.055814598336576e-78\n",
      "Kolom  bruises  berguna untuk prediksi p-value =  0.0\n",
      "Kolom  odor  berguna untuk prediksi p-value =  0.0\n",
      "Kolom  gill-attachment  berguna untuk prediksi p-value =  5.501707411861009e-31\n",
      "Kolom  gill-spacing  berguna untuk prediksi p-value =  5.0229776137324786e-216\n",
      "Kolom  gill-size  berguna untuk prediksi p-value =  0.0\n",
      "Kolom  gill-color  berguna untuk prediksi p-value =  0.0\n",
      "Kolom  stalk-shape  berguna untuk prediksi p-value =  4.604746212155192e-20\n",
      "Kolom  stalk-root  berguna untuk prediksi p-value =  7.702047904943513e-290\n",
      "Kolom  stalk-surface-above-ring  berguna untuk prediksi p-value =  0.0\n",
      "Kolom  stalk-surface-below-ring  berguna untuk prediksi p-value =  0.0\n",
      "Kolom  stalk-color-above-ring  berguna untuk prediksi p-value =  0.0\n",
      "Kolom  stalk-color-below-ring  berguna untuk prediksi p-value =  0.0\n",
      "Kolom  veil-color  berguna untuk prediksi p-value =  3.32097274916963e-41\n",
      "Kolom  ring-number  berguna untuk prediksi p-value =  4.23575764172306e-82\n",
      "Kolom  ring-type  berguna untuk prediksi p-value =  0.0\n",
      "Kolom  spore-print-color  berguna untuk prediksi p-value =  0.0\n",
      "Kolom  population  berguna untuk prediksi p-value =  0.0\n",
      "Kolom  habitat  berguna untuk prediksi p-value =  0.0\n",
      "\n",
      "bruises 0.0\n",
      "odor 0.0\n",
      "gill-size 0.0\n",
      "gill-color 0.0\n",
      "stalk-surface-above-ring 0.0\n",
      "stalk-surface-below-ring 0.0\n",
      "stalk-color-above-ring 0.0\n",
      "stalk-color-below-ring 0.0\n",
      "ring-type 0.0\n",
      "spore-print-color 0.0\n",
      "population 0.0\n",
      "habitat 0.0\n",
      "stalk-root 7.702047904943513e-290\n",
      "gill-spacing 5.0229776137324786e-216\n",
      "cap-shape 1.1964565685935438e-103\n",
      "ring-number 4.23575764172306e-82\n",
      "cap-color 6.055814598336576e-78\n",
      "cap-surface 5.518427038649143e-68\n",
      "veil-color 3.32097274916963e-41\n",
      "gill-attachment 5.501707411861009e-31\n",
      "stalk-shape 4.604746212155192e-20\n"
     ]
    }
   ],
   "source": [
    "from ChiSquareTest import ChiSquareTest\n",
    "from operator import itemgetter\n",
    "\n",
    "test = ChiSquareTest(df)\n",
    "\n",
    "arrCol = []\n",
    "for col in df.iloc[:,1:22].columns:\n",
    "    p = test.TestIndependence(colX=col,colY=\"class\" )\n",
    "    arrCol.append((col, p))\n",
    "print(\"\")\n",
    "arrCol.sort(key = itemgetter(1))\n",
    "for i in range(len(arrCol)):\n",
    "    print(arrCol[i][0],arrCol[i][1])"
   ]
  },
  {
   "cell_type": "markdown",
   "metadata": {},
   "source": [
    "##Visualisasi Feature\n",
    "Visualisasi feature dengan p-value terkecil"
   ]
  },
  {
   "cell_type": "code",
   "execution_count": 9,
   "metadata": {},
   "outputs": [
    {
     "data": {
      "image/png": "[encoded data removed]",
      "text/plain": [
       "<Figure size 432x288 with 1 Axes>"
      ]
     },
     "metadata": {
      "needs_background": "light"
     },
     "output_type": "display_data"
    }
   ],
   "source": [
    "import matplotlib.pyplot as plt\n",
    "\n",
    "#bruises yes\n",
    "bt_e = len(df[(df['bruises']=='t') & (df['class']=='e')]['bruises'])\n",
    "bt_p = len(df[(df['bruises']=='t') & (df['class']=='p')]['bruises'])\n",
    "\n",
    "#bruises no\n",
    "bn_e = len(df[(df['bruises']=='f') & (df['class']=='e')]['bruises'])\n",
    "bn_p = len(df[(df['bruises']=='f') & (df['class']=='p')]['bruises'])\n",
    "\n",
    "be = (bt_e, bn_e)\n",
    "bp = (bt_p, bn_p)\n",
    "# create plot\n",
    "fig, ax = plt.subplots()\n",
    "index = np.arange(2)\n",
    "bar_width = 0.2\n",
    "opacity = 1\n",
    "\n",
    "rects1 = plt.bar(index, be, bar_width,\n",
    "alpha=opacity,\n",
    "color='green',\n",
    "label='Edible')\n",
    "\n",
    "rects2 = plt.bar(index + bar_width, bp, bar_width,\n",
    "alpha=opacity,\n",
    "color='purple',\n",
    "label='Poison')\n",
    "\n",
    "plt.xlabel('Bruises')\n",
    "plt.ylabel('Jumlah')\n",
    "plt.title('Perbandingan bruises')\n",
    "plt.xticks(index+(bar_width/2), ('Bruises True', 'Bruises False'))\n",
    "plt.legend()\n",
    "\n",
    "plt.tight_layout()\n",
    "plt.show()"
   ]
  },
  {
   "cell_type": "markdown",
   "metadata": {},
   "source": [
    "Terlihat feature bruises belum representatif terhadap jamur yang dapat dimakan atau tidak, namun bisa disimpulkan jamur yang memiliki bruises probabilitas dapat dimakan lebih besar."
   ]
  },
  {
   "cell_type": "code",
   "execution_count": 13,
   "metadata": {},
   "outputs": [
    {
     "data": {
      "image/png": "[encoded data removed]",
      "text/plain": [
       "<Figure size 864x504 with 1 Axes>"
      ]
     },
     "metadata": {
      "needs_background": "light"
     },
     "output_type": "display_data"
    }
   ],
   "source": [
    "#odor\n",
    "odors = df['odor'].value_counts()\n",
    "odor_labels = odors.axes[0].tolist()\n",
    "\n",
    "odor_e= []    #Edible odor list\n",
    "odor_p = [] #Poisonous odor list\n",
    "for odor in odor_labels:\n",
    "    size = len(df[df['odor'] == odor].index)\n",
    "    edibles = len(df[(df['odor'] == odor) & (df['class'] == 'e')].index)\n",
    "    odor_e.append(edibles)\n",
    "    odor_p.append(size-edibles)\n",
    "    \n",
    "fig, ax = plt.subplots(figsize=(12,7))\n",
    "index = np.arange(9)\n",
    "bar_width = 0.3\n",
    "opacity = 1\n",
    "\n",
    "rects1 = plt.bar(index, odor_e, bar_width,\n",
    "alpha=opacity,\n",
    "color='green',\n",
    "label='Edible')\n",
    "\n",
    "rects2 = plt.bar(index + bar_width, odor_p, bar_width,\n",
    "alpha=opacity,\n",
    "color='purple',\n",
    "label='Poison')\n",
    "\n",
    "plt.xlabel('Odor')\n",
    "plt.ylabel('Jumlah')\n",
    "plt.title('Perbandingan Odor')\n",
    "plt.xticks(index+(bar_width/2), odor_labels)\n",
    "plt.legend()\n",
    "\n",
    "plt.tight_layout()\n",
    "plt.show()"
   ]
  },
  {
   "cell_type": "markdown",
   "metadata": {},
   "source": [
    "Pada feature odor cukup menarik karena tiap kelas hampir representatif terhadap jamur yang bisa dimakan atau beracun, untuk sementara feature odor dianggap paling penting dalam membedakan jamur beracun atau tidak.\n",
    "\n",
    "bisa dilihat bahwa jamur yang memiliki bau almond dan anise dapat dipastikan bisa dimakan, tetapi ada kemungkinan jamur yang tidak memiliki bau adalah jamur beracun."
   ]
  },
  {
   "cell_type": "code",
   "execution_count": 20,
   "metadata": {},
   "outputs": [
    {
     "data": {
      "image/png": "[encoded data removed]",
      "text/plain": [
       "<Figure size 864x504 with 1 Axes>"
      ]
     },
     "metadata": {
      "needs_background": "light"
     },
     "output_type": "display_data"
    }
   ],
   "source": [
    "#gill size\n",
    "c = df['gill-size'].value_counts()\n",
    "c_labels = c.axes[0].tolist() \n",
    "c_e= []\n",
    "c_p = []\n",
    "for c in c_labels:\n",
    "    size = len(df[df['gill-size'] == c].index)\n",
    "    edibles = len(df[(df['gill-size'] == c) & (df['class'] == 'e')].index)\n",
    "    c_e.append(edibles)\n",
    "    c_p.append(size-edibles)\n",
    "    \n",
    "fig, ax = plt.subplots(figsize=(12,7))\n",
    "index = np.arange(2)\n",
    "bar_width = 0.3\n",
    "opacity = 1\n",
    "\n",
    "rects1 = plt.bar(index, c_e, bar_width,\n",
    "alpha=opacity,\n",
    "color='green',\n",
    "label='Edible')\n",
    "\n",
    "rects2 = plt.bar(index + bar_width, c_p, bar_width,\n",
    "alpha=opacity,\n",
    "color='purple',\n",
    "label='Poison')\n",
    "\n",
    "plt.xlabel('Gill-size')\n",
    "plt.ylabel('Jumlah')\n",
    "plt.title('Perbandingan gill-size')\n",
    "plt.xticks(index+(bar_width/2), c_labels)\n",
    "plt.legend()\n",
    "\n",
    "plt.tight_layout()\n",
    "plt.show()"
   ]
  },
  {
   "cell_type": "markdown",
   "metadata": {},
   "source": [
    "Feature gill-size cukup representatif, tetapi belum sebaik seperti odor."
   ]
  },
  {
   "cell_type": "code",
   "execution_count": 21,
   "metadata": {
    "scrolled": true
   },
   "outputs": [
    {
     "data": {
      "image/png": "[encoded data removed]",
      "text/plain": [
       "<Figure size 864x504 with 1 Axes>"
      ]
     },
     "metadata": {
      "needs_background": "light"
     },
     "output_type": "display_data"
    }
   ],
   "source": [
    "#gill color\n",
    "c = df['gill-color'].value_counts()\n",
    "c_labels = c.axes[0].tolist() \n",
    "c_e= []\n",
    "c_p = []\n",
    "for c in c_labels:\n",
    "    size = len(df[df['gill-color'] == c].index)\n",
    "    edibles = len(df[(df['gill-color'] == c) & (df['class'] == 'e')].index)\n",
    "    c_e.append(edibles)\n",
    "    c_p.append(size-edibles)\n",
    "    \n",
    "fig, ax = plt.subplots(figsize=(12,7))\n",
    "index = np.arange(12)\n",
    "bar_width = 0.3\n",
    "opacity = 1\n",
    "\n",
    "rects1 = plt.bar(index, c_e, bar_width,\n",
    "alpha=opacity,\n",
    "color='green',\n",
    "label='Edible')\n",
    "\n",
    "rects2 = plt.bar(index + bar_width, c_p, bar_width,\n",
    "alpha=opacity,\n",
    "color='purple',\n",
    "label='Poison')\n",
    "\n",
    "plt.xlabel('Gill-color')\n",
    "plt.ylabel('Jumlah')\n",
    "plt.title('Perbandingan gill-color')\n",
    "plt.xticks(index+(bar_width/2), c_labels)\n",
    "plt.legend()\n",
    "\n",
    "plt.tight_layout()\n",
    "plt.show()"
   ]
  },
  {
   "cell_type": "markdown",
   "metadata": {},
   "source": [
    "Feature gill-color belum representatif juga membedakan mana jamur beracun atau tidak, tetapi beberapa class mewakili mana yang beracun atau tidak seperti:\n",
    "- black (beracun)\n",
    "- red (dapat dimakan)\n",
    "- orange (dapat dimakan)\n",
    "- green (beracun)"
   ]
  },
  {
   "cell_type": "code",
   "execution_count": 23,
   "metadata": {
    "scrolled": true
   },
   "outputs": [
    {
     "data": {
      "image/png": "[encoded data removed]",
      "text/plain": [
       "<Figure size 864x504 with 1 Axes>"
      ]
     },
     "metadata": {
      "needs_background": "light"
     },
     "output_type": "display_data"
    }
   ],
   "source": [
    "#stalk-surface-above-ring\n",
    "c = df['stalk-surface-above-ring'].value_counts()\n",
    "c_labels = c.axes[0].tolist() \n",
    "c_e= []\n",
    "c_p = []\n",
    "for c in c_labels:\n",
    "    size = len(df[df['stalk-surface-above-ring'] == c].index)\n",
    "    edibles = len(df[(df['stalk-surface-above-ring'] == c) & (df['class'] == 'e')].index)\n",
    "    c_e.append(edibles)\n",
    "    c_p.append(size-edibles)\n",
    "    \n",
    "fig, ax = plt.subplots(figsize=(12,7))\n",
    "index = np.arange(4)\n",
    "bar_width = 0.3\n",
    "opacity = 1\n",
    "\n",
    "rects1 = plt.bar(index, c_e, bar_width,\n",
    "alpha=opacity,\n",
    "color='green',\n",
    "label='Edible')\n",
    "\n",
    "rects2 = plt.bar(index + bar_width, c_p, bar_width,\n",
    "alpha=opacity,\n",
    "color='purple',\n",
    "label='Poison')\n",
    "\n",
    "plt.xlabel('stalk-surface-above-ring')\n",
    "plt.ylabel('Jumlah')\n",
    "plt.title('Perbandingan stalk-surface-above-ring')\n",
    "plt.xticks(index+(bar_width/2), c_labels)\n",
    "plt.legend()\n",
    "\n",
    "plt.tight_layout()\n",
    "plt.show()"
   ]
  },
  {
   "cell_type": "code",
   "execution_count": 24,
   "metadata": {},
   "outputs": [
    {
     "data": {
      "image/png": "[encoded data removed]",
      "text/plain": [
       "<Figure size 864x504 with 1 Axes>"
      ]
     },
     "metadata": {
      "needs_background": "light"
     },
     "output_type": "display_data"
    }
   ],
   "source": [
    "#stalk-surface-below-ring\n",
    "c = df['stalk-surface-below-ring'].value_counts()\n",
    "c_labels = c.axes[0].tolist() \n",
    "c_e= []\n",
    "c_p = []\n",
    "for c in c_labels:\n",
    "    size = len(df[df['stalk-surface-below-ring'] == c].index)\n",
    "    edibles = len(df[(df['stalk-surface-below-ring'] == c) & (df['class'] == 'e')].index)\n",
    "    c_e.append(edibles)\n",
    "    c_p.append(size-edibles)\n",
    "    \n",
    "fig, ax = plt.subplots(figsize=(12,7))\n",
    "index = np.arange(4)\n",
    "bar_width = 0.3\n",
    "opacity = 1\n",
    "\n",
    "rects1 = plt.bar(index, c_e, bar_width,\n",
    "alpha=opacity,\n",
    "color='green',\n",
    "label='Edible')\n",
    "\n",
    "rects2 = plt.bar(index + bar_width, c_p, bar_width,\n",
    "alpha=opacity,\n",
    "color='purple',\n",
    "label='Poison')\n",
    "\n",
    "plt.xlabel('stalk-surface-below-ring')\n",
    "plt.ylabel('Jumlah')\n",
    "plt.title('Perbandingan stalk-surface-below-ring')\n",
    "plt.xticks(index+(bar_width/2), c_labels)\n",
    "plt.legend()\n",
    "\n",
    "plt.tight_layout()\n",
    "plt.show()"
   ]
  },
  {
   "cell_type": "code",
   "execution_count": 25,
   "metadata": {},
   "outputs": [
    {
     "data": {
      "image/png": "[encoded data removed]",
      "text/plain": [
       "<Figure size 864x504 with 1 Axes>"
      ]
     },
     "metadata": {
      "needs_background": "light"
     },
     "output_type": "display_data"
    }
   ],
   "source": [
    "#stalk-color-above-ring\n",
    "c = df['stalk-color-above-ring'].value_counts()\n",
    "c_labels = c.axes[0].tolist() \n",
    "c_e= []\n",
    "c_p = []\n",
    "for c in c_labels:\n",
    "    size = len(df[df['stalk-color-above-ring'] == c].index)\n",
    "    edibles = len(df[(df['stalk-color-above-ring'] == c) & (df['class'] == 'e')].index)\n",
    "    c_e.append(edibles)\n",
    "    c_p.append(size-edibles)\n",
    "    \n",
    "fig, ax = plt.subplots(figsize=(12,7))\n",
    "index = np.arange(9)\n",
    "bar_width = 0.3\n",
    "opacity = 1\n",
    "\n",
    "rects1 = plt.bar(index, c_e, bar_width,\n",
    "alpha=opacity,\n",
    "color='green',\n",
    "label='Edible')\n",
    "\n",
    "rects2 = plt.bar(index + bar_width, c_p, bar_width,\n",
    "alpha=opacity,\n",
    "color='purple',\n",
    "label='Poison')\n",
    "\n",
    "plt.xlabel('stalk-color-above-ring')\n",
    "plt.ylabel('Jumlah')\n",
    "plt.title('Perbandingan stalk-color-above-ring')\n",
    "plt.xticks(index+(bar_width/2), c_labels)\n",
    "plt.legend()\n",
    "\n",
    "plt.tight_layout()\n",
    "plt.show()"
   ]
  },
  {
   "cell_type": "code",
   "execution_count": 26,
   "metadata": {},
   "outputs": [
    {
     "data": {
      "image/png": "[encoded data removed]",
      "text/plain": [
       "<Figure size 864x504 with 1 Axes>"
      ]
     },
     "metadata": {
      "needs_background": "light"
     },
     "output_type": "display_data"
    }
   ],
   "source": [
    "#stalk-color-below-ring\n",
    "c = df['stalk-color-below-ring'].value_counts()\n",
    "c_labels = c.axes[0].tolist() \n",
    "c_e= []\n",
    "c_p = []\n",
    "for c in c_labels:\n",
    "    size = len(df[df['stalk-color-below-ring'] == c].index)\n",
    "    edibles = len(df[(df['stalk-color-below-ring'] == c) & (df['class'] == 'e')].index)\n",
    "    c_e.append(edibles)\n",
    "    c_p.append(size-edibles)\n",
    "    \n",
    "fig, ax = plt.subplots(figsize=(12,7))\n",
    "index = np.arange(9)\n",
    "bar_width = 0.3\n",
    "opacity = 1\n",
    "\n",
    "rects1 = plt.bar(index, c_e, bar_width,\n",
    "alpha=opacity,\n",
    "color='green',\n",
    "label='Edible')\n",
    "\n",
    "rects2 = plt.bar(index + bar_width, c_p, bar_width,\n",
    "alpha=opacity,\n",
    "color='purple',\n",
    "label='Poison')\n",
    "\n",
    "plt.xlabel('stalk-color-below-ring')\n",
    "plt.ylabel('Jumlah')\n",
    "plt.title('Perbandingan stalk-color-below-ring')\n",
    "plt.xticks(index+(bar_width/2), c_labels)\n",
    "plt.legend()\n",
    "\n",
    "plt.tight_layout()\n",
    "plt.show()"
   ]
  },
  {
   "cell_type": "code",
   "execution_count": 29,
   "metadata": {},
   "outputs": [
    {
     "data": {
      "image/png": "[encoded data removed]",
      "text/plain": [
       "<Figure size 864x504 with 1 Axes>"
      ]
     },
     "metadata": {
      "needs_background": "light"
     },
     "output_type": "display_data"
    }
   ],
   "source": [
    "#ring-type\n",
    "c = df['ring-type'].value_counts()\n",
    "c_labels = c.axes[0].tolist() \n",
    "c_e= []\n",
    "c_p = []\n",
    "for c in c_labels:\n",
    "    size = len(df[df['ring-type'] == c].index)\n",
    "    edibles = len(df[(df['ring-type'] == c) & (df['class'] == 'e')].index)\n",
    "    c_e.append(edibles)\n",
    "    c_p.append(size-edibles)\n",
    "    \n",
    "fig, ax = plt.subplots(figsize=(12,7))\n",
    "index = np.arange(len(c_labels))\n",
    "bar_width = 0.3\n",
    "opacity = 1\n",
    "\n",
    "rects1 = plt.bar(index, c_e, bar_width,\n",
    "alpha=opacity,\n",
    "color='green',\n",
    "label='Edible')\n",
    "\n",
    "rects2 = plt.bar(index + bar_width, c_p, bar_width,\n",
    "alpha=opacity,\n",
    "color='purple',\n",
    "label='Poison')\n",
    "\n",
    "plt.xlabel('ring-type')\n",
    "plt.ylabel('Jumlah')\n",
    "plt.title('Perbandingan ring-type')\n",
    "plt.xticks(index+(bar_width/2), c_labels)\n",
    "plt.legend()\n",
    "\n",
    "plt.tight_layout()\n",
    "plt.show()"
   ]
  },
  {
   "cell_type": "code",
   "execution_count": 30,
   "metadata": {},
   "outputs": [
    {
     "data": {
      "image/png": "[encoded data removed]",
      "text/plain": [
       "<Figure size 864x504 with 1 Axes>"
      ]
     },
     "metadata": {
      "needs_background": "light"
     },
     "output_type": "display_data"
    }
   ],
   "source": [
    "#spore-print-color\n",
    "c = df['spore-print-color'].value_counts()\n",
    "c_labels = c.axes[0].tolist() \n",
    "c_e= []\n",
    "c_p = []\n",
    "for c in c_labels:\n",
    "    size = len(df[df['spore-print-color'] == c].index)\n",
    "    edibles = len(df[(df['spore-print-color'] == c) & (df['class'] == 'e')].index)\n",
    "    c_e.append(edibles)\n",
    "    c_p.append(size-edibles)\n",
    "    \n",
    "fig, ax = plt.subplots(figsize=(12,7))\n",
    "index = np.arange(len(c_labels))\n",
    "bar_width = 0.3\n",
    "opacity = 1\n",
    "\n",
    "rects1 = plt.bar(index, c_e, bar_width,\n",
    "alpha=opacity,\n",
    "color='green',\n",
    "label='Edible')\n",
    "\n",
    "rects2 = plt.bar(index + bar_width, c_p, bar_width,\n",
    "alpha=opacity,\n",
    "color='purple',\n",
    "label='Poison')\n",
    "\n",
    "plt.xlabel('spore-print-color')\n",
    "plt.ylabel('Jumlah')\n",
    "plt.title('Perbandingan spore-print-color')\n",
    "plt.xticks(index+(bar_width/2), c_labels)\n",
    "plt.legend()\n",
    "\n",
    "plt.tight_layout()\n",
    "plt.show()"
   ]
  },
  {
   "cell_type": "markdown",
   "metadata": {},
   "source": [
    "Feature spore-print-color cukup representatif karena terlihat perbedaan tiap kelas mana yang beracun atau tidak, tapi menurut saya masih lebih baik odor, jadi feature ini sementara menjadi ke 2 terbaik."
   ]
  },
  {
   "cell_type": "code",
   "execution_count": 33,
   "metadata": {},
   "outputs": [
    {
     "data": {
      "image/png": "[encoded data removed]",
      "text/plain": [
       "<Figure size 864x504 with 1 Axes>"
      ]
     },
     "metadata": {
      "needs_background": "light"
     },
     "output_type": "display_data"
    }
   ],
   "source": [
    "#population\n",
    "c = df['population'].value_counts()\n",
    "c_labels = c.axes[0].tolist() \n",
    "c_e= []\n",
    "c_p = []\n",
    "for c in c_labels:\n",
    "    size = len(df[df['population'] == c].index)\n",
    "    edibles = len(df[(df['population'] == c) & (df['class'] == 'e')].index)\n",
    "    c_e.append(edibles)\n",
    "    c_p.append(size-edibles)\n",
    "    \n",
    "fig, ax = plt.subplots(figsize=(12,7))\n",
    "index = np.arange(len(c_labels))\n",
    "bar_width = 0.3\n",
    "opacity = 1\n",
    "\n",
    "rects1 = plt.bar(index, c_e, bar_width,\n",
    "alpha=opacity,\n",
    "color='green',\n",
    "label='Edible')\n",
    "\n",
    "rects2 = plt.bar(index + bar_width, c_p, bar_width,\n",
    "alpha=opacity,\n",
    "color='purple',\n",
    "label='Poison')\n",
    "\n",
    "plt.xlabel('population')\n",
    "plt.ylabel('Jumlah')\n",
    "plt.title('Perbandingan population')\n",
    "plt.xticks(index+(bar_width/2), c_labels)\n",
    "plt.legend()\n",
    "\n",
    "plt.tight_layout()\n",
    "plt.show()"
   ]
  },
  {
   "cell_type": "code",
   "execution_count": 34,
   "metadata": {},
   "outputs": [
    {
     "data": {
      "image/png": "[encoded data removed]",
      "text/plain": [
       "<Figure size 864x504 with 1 Axes>"
      ]
     },
     "metadata": {
      "needs_background": "light"
     },
     "output_type": "display_data"
    }
   ],
   "source": [
    "#habitat\n",
    "c = df['habitat'].value_counts()\n",
    "c_labels = c.axes[0].tolist() \n",
    "c_e= []\n",
    "c_p = []\n",
    "for c in c_labels:\n",
    "    size = len(df[df['habitat'] == c].index)\n",
    "    edibles = len(df[(df['habitat'] == c) & (df['class'] == 'e')].index)\n",
    "    c_e.append(edibles)\n",
    "    c_p.append(size-edibles)\n",
    "    \n",
    "fig, ax = plt.subplots(figsize=(12,7))\n",
    "index = np.arange(len(c_labels))\n",
    "bar_width = 0.3\n",
    "opacity = 1\n",
    "\n",
    "rects1 = plt.bar(index, c_e, bar_width,\n",
    "alpha=opacity,\n",
    "color='green',\n",
    "label='Edible')\n",
    "\n",
    "rects2 = plt.bar(index + bar_width, c_p, bar_width,\n",
    "alpha=opacity,\n",
    "color='purple',\n",
    "label='Poison')\n",
    "\n",
    "plt.xlabel('habitat')\n",
    "plt.ylabel('Jumlah')\n",
    "plt.title('Perbandingan habitat')\n",
    "plt.xticks(index+(bar_width/2), c_labels)\n",
    "plt.legend()\n",
    "\n",
    "plt.tight_layout()\n",
    "plt.show()"
   ]
  },
  {
   "cell_type": "markdown",
   "metadata": {},
   "source": [
    "#Kesimpulan\n",
    "\n",
    "Menurut perbandingan bar chart diatas, dapat dilihat feature odor dan spore-print-color cukup representatif dan dapat dijadikan kandidat feature yang paling mengindikasikan jamur beracun dan tidak."
   ]
  }
 ],
 "metadata": {
  "kernelspec": {
   "display_name": "Python 3",
   "language": "python",
   "name": "python3"
  },
  "language_info": {
   "codemirror_mode": {
    "name": "ipython",
    "version": 3
   },
   "file_extension": ".py",
   "mimetype": "text/x-python",
   "name": "python",
   "nbconvert_exporter": "python",
   "pygments_lexer": "ipython3",
   "version": "3.7.3"
  }
 },
 "nbformat": 4,
 "nbformat_minor": 2
}
